{
 "cells": [
  {
   "cell_type": "markdown",
   "metadata": {},
   "source": [
    "# Lab | Numpy Deep Dive"
   ]
  },
  {
   "cell_type": "markdown",
   "metadata": {},
   "source": [
    "### 1. Import the NUMPY package under the name np.\n"
   ]
  },
  {
   "cell_type": "code",
   "execution_count": 1,
   "metadata": {},
   "outputs": [],
   "source": [
    "import numpy as np\n"
   ]
  },
  {
   "cell_type": "markdown",
   "metadata": {},
   "source": [
    "\n",
    "\n",
    "### 2. Print the NUMPY version and the configuration.\n"
   ]
  },
  {
   "cell_type": "code",
   "execution_count": 3,
   "metadata": {},
   "outputs": [
    {
     "data": {
      "text/plain": [
       "<module 'numpy.version' from 'c:\\\\Users\\\\Ayse\\\\anaconda3\\\\Lib\\\\site-packages\\\\numpy\\\\version.py'>"
      ]
     },
     "execution_count": 3,
     "metadata": {},
     "output_type": "execute_result"
    }
   ],
   "source": [
    "np.version\n"
   ]
  },
  {
   "cell_type": "markdown",
   "metadata": {},
   "source": [
    "### 3. Generate a 2x3x5 3-dimensional array with random values. Assign the array to variable \"a\"\n",
    "Challenge: there are at least three easy ways that use numpy to generate random arrays. How many ways can you find?\n"
   ]
  },
  {
   "cell_type": "code",
   "execution_count": 13,
   "metadata": {},
   "outputs": [],
   "source": [
    "aa = np.random.rand(2, 3, 5)\n"
   ]
  },
  {
   "cell_type": "code",
   "execution_count": 14,
   "metadata": {},
   "outputs": [
    {
     "data": {
      "text/plain": [
       "array([[[0.98320427, 0.1666072 , 0.00368792, 0.99862965, 0.61909566],\n",
       "        [0.96829814, 0.43849452, 0.13792663, 0.44594055, 0.17236418],\n",
       "        [0.68169262, 0.51197873, 0.48016163, 0.74097272, 0.51929058]],\n",
       "\n",
       "       [[0.74304996, 0.73290153, 0.81216442, 0.72825874, 0.4886838 ],\n",
       "        [0.57782239, 0.13834802, 0.14740111, 0.48655075, 0.08527318],\n",
       "        [0.9043776 , 0.02760362, 0.07547112, 0.39774126, 0.10556655]]])"
      ]
     },
     "execution_count": 14,
     "metadata": {},
     "output_type": "execute_result"
    }
   ],
   "source": [
    "aa"
   ]
  },
  {
   "cell_type": "code",
   "execution_count": 15,
   "metadata": {},
   "outputs": [
    {
     "name": "stdout",
     "output_type": "stream",
     "text": [
      "\n",
      "Random tensor:\n",
      "[[[1 2 1 2 2]\n",
      "  [1 0 2 0 2]\n",
      "  [1 1 2 0 0]]\n",
      "\n",
      " [[2 1 2 1 0]\n",
      "  [1 1 1 2 1]\n",
      "  [1 0 2 0 0]]]\n"
     ]
    }
   ],
   "source": [
    "tensor_a = np.random.randint(3, size=(2, 3, 5))\n",
    "print(\"\\nRandom tensor:\")\n",
    "print(tensor_a)\n"
   ]
  },
  {
   "cell_type": "markdown",
   "metadata": {},
   "source": [
    "\n",
    "### 4. Print a.\n"
   ]
  },
  {
   "cell_type": "code",
   "execution_count": 9,
   "metadata": {},
   "outputs": [
    {
     "data": {
      "text/plain": [
       "array([[[1, 1, 2, 0, 0],\n",
       "        [0, 1, 2, 1, 2],\n",
       "        [0, 1, 0, 1, 1]],\n",
       "\n",
       "       [[0, 2, 2, 0, 1],\n",
       "        [0, 1, 0, 0, 0],\n",
       "        [2, 1, 2, 2, 1]]], dtype=int32)"
      ]
     },
     "execution_count": 9,
     "metadata": {},
     "output_type": "execute_result"
    }
   ],
   "source": [
    "tensor_a"
   ]
  },
  {
   "cell_type": "markdown",
   "metadata": {},
   "source": [
    "### 5. Create a 5x2x3 3-dimensional array with all values equaling 1.\n",
    "### Assign the array to variable \"b\"\n"
   ]
  },
  {
   "cell_type": "code",
   "execution_count": 18,
   "metadata": {},
   "outputs": [],
   "source": [
    "tensor_b = np.ones((5, 2, 3))\n"
   ]
  },
  {
   "cell_type": "markdown",
   "metadata": {},
   "source": [
    "\n",
    "### 6. Print b.\n"
   ]
  },
  {
   "cell_type": "code",
   "execution_count": 19,
   "metadata": {},
   "outputs": [
    {
     "data": {
      "text/plain": [
       "array([[[1., 1., 1.],\n",
       "        [1., 1., 1.]],\n",
       "\n",
       "       [[1., 1., 1.],\n",
       "        [1., 1., 1.]],\n",
       "\n",
       "       [[1., 1., 1.],\n",
       "        [1., 1., 1.]],\n",
       "\n",
       "       [[1., 1., 1.],\n",
       "        [1., 1., 1.]],\n",
       "\n",
       "       [[1., 1., 1.],\n",
       "        [1., 1., 1.]]])"
      ]
     },
     "execution_count": 19,
     "metadata": {},
     "output_type": "execute_result"
    }
   ],
   "source": [
    "tensor_b\n"
   ]
  },
  {
   "cell_type": "markdown",
   "metadata": {},
   "source": [
    "\n",
    "### 7. Do a and b have the same size? How do you prove that in Python code?\n"
   ]
  },
  {
   "cell_type": "code",
   "execution_count": null,
   "metadata": {},
   "outputs": [
    {
     "name": "stdout",
     "output_type": "stream",
     "text": [
      "30\n",
      "30\n"
     ]
    }
   ],
   "source": [
    "print(tensor_a.size)\n",
    "print(tensor_b.size)\n",
    "\n",
    "\n",
    "\n",
    "#They are the same."
   ]
  },
  {
   "cell_type": "code",
   "execution_count": null,
   "metadata": {},
   "outputs": [
    {
     "name": "stdout",
     "output_type": "stream",
     "text": [
      "Equality Comparison Result:\n",
      "True\n"
     ]
    }
   ],
   "source": [
    "equal_result = (tensor_a.size == tensor_b.size)\n",
    "print(\"Equality Comparison Result:\")\n",
    "print(equal_result)"
   ]
  },
  {
   "cell_type": "markdown",
   "metadata": {},
   "source": [
    "\n",
    "### 8. Are you able to add a and b? Why or why not?\n"
   ]
  },
  {
   "cell_type": "code",
   "execution_count": null,
   "metadata": {},
   "outputs": [],
   "source": [
    "#You cannot add a andb, their shapes are not compatible,but we can make them compatible- we just have to transpose or reshape them.\n"
   ]
  },
  {
   "cell_type": "markdown",
   "metadata": {},
   "source": [
    "\n",
    "\n",
    "### 9. Transpose b so that it has the same structure of a (i.e. become a 2x3x5 array). Assign the transposed array to varialbe \"c\".\n"
   ]
  },
  {
   "cell_type": "code",
   "execution_count": 28,
   "metadata": {},
   "outputs": [
    {
     "name": "stdout",
     "output_type": "stream",
     "text": [
      "(2, 3, 5)\n"
     ]
    }
   ],
   "source": [
    "#tensor_b is currently: 5x2x3. I want to transform it to a 2x3x5.\n",
    "#axis 0:5; axis 1:2; axis: 2: 3 has to be arranged to axis 1, axis 2, axis 0.\n",
    "\n",
    "tensor_c = np.transpose(tensor_b, (1, 2, 0))\n",
    "print (tensor_c.shape)\n"
   ]
  },
  {
   "cell_type": "markdown",
   "metadata": {},
   "source": [
    "\n",
    "### 10. Try to add a and c. Now it should work. Assign the sum to variable \"d\". But why does it work now?\n"
   ]
  },
  {
   "cell_type": "code",
   "execution_count": null,
   "metadata": {},
   "outputs": [
    {
     "name": "stdout",
     "output_type": "stream",
     "text": [
      "[[[2. 3. 2. 3. 3.]\n",
      "  [2. 1. 3. 1. 3.]\n",
      "  [2. 2. 3. 1. 1.]]\n",
      "\n",
      " [[3. 2. 3. 2. 1.]\n",
      "  [2. 2. 2. 3. 2.]\n",
      "  [2. 1. 3. 1. 1.]]]\n"
     ]
    }
   ],
   "source": [
    "tensor_d = tensor_a + tensor_c\n",
    "print(tensor_d)\n",
    "\n",
    "#It works now because they have the same shape.\n"
   ]
  },
  {
   "cell_type": "markdown",
   "metadata": {},
   "source": [
    "\n",
    "### 11. Print a and d. Notice the difference and relation of the two array in terms of the values? Explain.\n"
   ]
  },
  {
   "cell_type": "code",
   "execution_count": null,
   "metadata": {},
   "outputs": [
    {
     "name": "stdout",
     "output_type": "stream",
     "text": [
      "tensor_a\n",
      "[[[1 2 1 2 2]\n",
      "  [1 0 2 0 2]\n",
      "  [1 1 2 0 0]]\n",
      "\n",
      " [[2 1 2 1 0]\n",
      "  [1 1 1 2 1]\n",
      "  [1 0 2 0 0]]]\n",
      "tensor_d:\n",
      "[[[2. 3. 2. 3. 3.]\n",
      "  [2. 1. 3. 1. 3.]\n",
      "  [2. 2. 3. 1. 1.]]\n",
      "\n",
      " [[3. 2. 3. 2. 1.]\n",
      "  [2. 2. 2. 3. 2.]\n",
      "  [2. 1. 3. 1. 1.]]]\n"
     ]
    }
   ],
   "source": [
    "print (\"tensor_a\")\n",
    "print(tensor_a)\n",
    "(print (\"tensor_d:\"))\n",
    "print(tensor_d)\n",
    "\n",
    "#tensor_d is similar to tensor_a, just each value added 1.\n"
   ]
  },
  {
   "cell_type": "markdown",
   "metadata": {},
   "source": [
    "\n",
    "### 12. Multiply a and c. Assign the result to e.\n"
   ]
  },
  {
   "cell_type": "code",
   "execution_count": 38,
   "metadata": {},
   "outputs": [
    {
     "data": {
      "text/plain": [
       "array([[[1., 2., 1., 2., 2.],\n",
       "        [1., 0., 2., 0., 2.],\n",
       "        [1., 1., 2., 0., 0.]],\n",
       "\n",
       "       [[2., 1., 2., 1., 0.],\n",
       "        [1., 1., 1., 2., 1.],\n",
       "        [1., 0., 2., 0., 0.]]])"
      ]
     },
     "execution_count": 38,
     "metadata": {},
     "output_type": "execute_result"
    }
   ],
   "source": [
    "tensor_e = tensor_a * tensor_c\n",
    "tensor_e"
   ]
  },
  {
   "cell_type": "markdown",
   "metadata": {},
   "source": [
    "\n",
    "\n",
    "### 13. Does e equal to a? Why or why not?\n"
   ]
  },
  {
   "cell_type": "code",
   "execution_count": null,
   "metadata": {},
   "outputs": [],
   "source": [
    "#tensor_c  is full of ones, so multiplying it with tensor_a doesn not change any values, which is why tensor_a is equal to tensor_e.\n",
    "\n"
   ]
  },
  {
   "cell_type": "markdown",
   "metadata": {},
   "source": [
    "\n",
    "\n",
    "### 14. Identify the max, min, and mean values in d. Assign those values to variables \"d_max\", \"d_min\", and \"d_mean\"\n"
   ]
  },
  {
   "cell_type": "code",
   "execution_count": 43,
   "metadata": {},
   "outputs": [
    {
     "name": "stdout",
     "output_type": "stream",
     "text": [
      "Max value:  3.0\n",
      "Min value:  1.0\n",
      "Mean:  2.066666666666667\n"
     ]
    }
   ],
   "source": [
    "d_max = np.max(tensor_d); print(\"Max value: \", d_max)\n",
    "d_min = np.min(tensor_d);print(\"Min value: \", d_min)\n",
    "d_mean = np.mean(tensor_d); print(\"Mean: \", d_mean)\n"
   ]
  },
  {
   "cell_type": "markdown",
   "metadata": {},
   "source": [
    "\n",
    "### 15. Now we want to label the values in d. First create an empty array \"f\" with the same shape (i.e. 2x3x5) as d using `np.empty`.\n"
   ]
  },
  {
   "cell_type": "code",
   "execution_count": 46,
   "metadata": {},
   "outputs": [
    {
     "data": {
      "text/plain": [
       "array([[[2., 3., 2., 3., 3.],\n",
       "        [2., 1., 3., 1., 3.],\n",
       "        [2., 2., 3., 1., 1.]],\n",
       "\n",
       "       [[3., 2., 3., 2., 1.],\n",
       "        [2., 2., 2., 3., 2.],\n",
       "        [2., 1., 3., 1., 1.]]])"
      ]
     },
     "execution_count": 46,
     "metadata": {},
     "output_type": "execute_result"
    }
   ],
   "source": [
    "tensor_f = np.empty((2, 3, 5))\n",
    "tensor_f"
   ]
  },
  {
   "cell_type": "markdown",
   "metadata": {},
   "source": [
    "\n",
    "\n",
    "\n",
    "### 16. Populate the values in f. For each value in d, if it's larger than d_min but smaller than d_mean, assign 25 to the corresponding value in f.\n",
    "If a value in d is larger than d_mean but smaller than d_max, assign 75 to the corresponding value in f.\n",
    "If a value equals to d_mean, assign 50 to the corresponding value in f.\n",
    "Assign 0 to the corresponding value(s) in f for d_min in d.\n",
    "Assign 100 to the corresponding value(s) in f for d_max in d.\n",
    "In the end, f should have only the following values: 0, 25, 50, 75, and 100.\n",
    "Note: you don't have to use Numpy in this question.\n",
    "\n"
   ]
  },
  {
   "cell_type": "code",
   "execution_count": 47,
   "metadata": {},
   "outputs": [
    {
     "data": {
      "text/plain": [
       "array([[[ 25., 100.,  25., 100., 100.],\n",
       "        [ 25.,   0., 100.,   0., 100.],\n",
       "        [ 25.,  25., 100.,   0.,   0.]],\n",
       "\n",
       "       [[100.,  25., 100.,  25.,   0.],\n",
       "        [ 25.,  25.,  25., 100.,  25.],\n",
       "        [ 25.,   0., 100.,   0.,   0.]]])"
      ]
     },
     "execution_count": 47,
     "metadata": {},
     "output_type": "execute_result"
    }
   ],
   "source": [
    "for i in range(2): #first dimension\n",
    "    for j in range(3): #second dimension\n",
    "        for k in range(5): #third dimension\n",
    "            value = tensor_d[i][j][k]\n",
    "\n",
    "            if value == d_min:\n",
    "                tensor_f[i][j][k] = 0\n",
    "            elif value == d_max:\n",
    "                tensor_f[i][j][k] = 100\n",
    "            elif value == d_mean:\n",
    "                tensor_f[i][j][k] = 50\n",
    "            elif value > d_min and value < d_mean:\n",
    "                tensor_f[i][j][k] = 25\n",
    "            elif value > d_mean and value < d_max:\n",
    "                tensor_f[i][j][k] = 75\n",
    "\n",
    "tensor_f\n",
    "\n"
   ]
  },
  {
   "cell_type": "markdown",
   "metadata": {},
   "source": [
    "\n",
    "\n",
    "\n",
    "\n",
    "### 17. Print d and f. Do you have your expected f?\n",
    "For instance, if your d is:\n",
    "array([[[1.85836099, 1.67064465, 1.62576044, 1.40243961, 1.88454931],\n",
    "        [1.75354326, 1.69403643, 1.36729252, 1.61415071, 1.12104981],\n",
    "        [1.72201435, 1.1862918 , 1.87078449, 1.7726778 , 1.88180042]],\n",
    "\n",
    "       [[1.44747908, 1.31673383, 1.02000951, 1.52218947, 1.97066381],\n",
    "        [1.79129243, 1.74983003, 1.96028037, 1.85166831, 1.65450881],\n",
    "        [1.18068344, 1.9587381 , 1.00656599, 1.93402165, 1.73514584]]])\n",
    "\n",
    "Your f should be:\n",
    "array([[[ 75.,  75.,  75.,  25.,  75.],\n",
    "        [ 75.,  75.,  25.,  25.,  25.],\n",
    "        [ 75.,  25.,  75.,  75.,  75.]],\n",
    "\n",
    "       [[ 25.,  25.,  25.,  25., 100.],\n",
    "        [ 75.,  75.,  75.,  75.,  75.],\n",
    "        [ 25.,  75.,   0.,  75.,  75.]]])\n",
    "\n"
   ]
  },
  {
   "cell_type": "code",
   "execution_count": 52,
   "metadata": {},
   "outputs": [
    {
     "name": "stdout",
     "output_type": "stream",
     "text": [
      "d:  [[[2. 3. 2. 3. 3.]\n",
      "  [2. 1. 3. 1. 3.]\n",
      "  [2. 2. 3. 1. 1.]]\n",
      "\n",
      " [[3. 2. 3. 2. 1.]\n",
      "  [2. 2. 2. 3. 2.]\n",
      "  [2. 1. 3. 1. 1.]]]\n",
      "f:  [[[ 25. 100.  25. 100. 100.]\n",
      "  [ 25.   0. 100.   0. 100.]\n",
      "  [ 25.  25. 100.   0.   0.]]\n",
      "\n",
      " [[100.  25. 100.  25.   0.]\n",
      "  [ 25.  25.  25. 100.  25.]\n",
      "  [ 25.   0. 100.   0.   0.]]]\n"
     ]
    }
   ],
   "source": [
    "print(\"d: \", tensor_d)\n",
    "print(\"f: \", tensor_f)\n"
   ]
  },
  {
   "cell_type": "markdown",
   "metadata": {},
   "source": [
    "### 18. Bonus question: instead of using numbers (i.e. 0, 25, 50, 75, and 100), how to use string values \n",
    "(\"A\", \"B\", \"C\", \"D\", and \"E\") to label the array elements? You are expecting the result to be:\n",
    "array([[[ 'D',  'D',  'D',  'B',  'D'],\n",
    "        [ 'D',  'D',  'B',  'B',  'B'],\n",
    "        [ 'D',  'B',  'D',  'D',  'D']],\n",
    "\n",
    "       [[ 'B',  'B',  'B',  'B',  'E'],\n",
    "        [ 'D',  'D',  'D',  'D',  'D'],\n",
    "        [ 'B',  'D',   'A',  'D', 'D']]])\n",
    "Again, you don't need Numpy in this question."
   ]
  },
  {
   "cell_type": "code",
   "execution_count": 54,
   "metadata": {},
   "outputs": [
    {
     "data": {
      "text/plain": [
       "array([[['B', 'E', 'B', 'E', 'E'],\n",
       "        ['B', 'A', 'E', 'A', 'E'],\n",
       "        ['B', 'B', 'E', 'A', 'A']],\n",
       "\n",
       "       [['E', 'B', 'E', 'B', 'A'],\n",
       "        ['B', 'B', 'B', 'E', 'B'],\n",
       "        ['B', 'A', 'E', 'A', 'A']]], dtype=object)"
      ]
     },
     "execution_count": 54,
     "metadata": {},
     "output_type": "execute_result"
    }
   ],
   "source": [
    "tensor_g = np.empty_like(tensor_f, dtype=object)\n",
    "\n",
    "\n",
    "for i in range(2):\n",
    "    for j in range (3):\n",
    "        for k in range (5):\n",
    "            val = tensor_f[i][j][k]\n",
    "            if val == 0:\n",
    "                tensor_g[i][j][k] = \"A\"\n",
    "            elif val == 25:\n",
    "                tensor_g[i][j][k] = \"B\"\n",
    "            elif val == 50:\n",
    "                tensor_g[i][j][k] = \"C\"\n",
    "            elif val == 75:\n",
    "                tensor_g[i][j][k] = \"D\"\n",
    "            elif val == 100:\n",
    "                tensor_g[i][j][k] = \"E\"\n",
    "            \n",
    "tensor_g"
   ]
  }
 ],
 "metadata": {
  "kernelspec": {
   "display_name": "base",
   "language": "python",
   "name": "python3"
  },
  "language_info": {
   "codemirror_mode": {
    "name": "ipython",
    "version": 3
   },
   "file_extension": ".py",
   "mimetype": "text/x-python",
   "name": "python",
   "nbconvert_exporter": "python",
   "pygments_lexer": "ipython3",
   "version": "3.13.5"
  }
 },
 "nbformat": 4,
 "nbformat_minor": 2
}
